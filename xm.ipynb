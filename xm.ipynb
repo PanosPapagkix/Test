{
 "cells": [
  {
   "cell_type": "code",
   "execution_count": 3,
   "id": "33a2073f",
   "metadata": {},
   "outputs": [],
   "source": [
    "import numpy as np\n",
    "import pandas as pd\n",
    "import random\n",
    "\n",
    "df1=pd.read_csv(\"Table_1_1.csv\")\n",
    "df2=pd.read_csv(\"Table_1_2.csv\")\n",
    "df3=pd.read_csv(\"Table_2_1.csv\")\n",
    "df4=pd.read_csv(\"Table_2_2.csv\")"
   ]
  },
  {
   "cell_type": "code",
   "execution_count": 4,
   "id": "96bfde2e",
   "metadata": {},
   "outputs": [],
   "source": [
    "#1.\n",
    "df1=pd.merge(df1,df2,on=\"show_id\")\n",
    "df2=pd.merge(df3,df4,on=\"show_id\")\n",
    "df=pd.concat([df1,df2])"
   ]
  },
  {
   "cell_type": "code",
   "execution_count": 5,
   "id": "398293ea",
   "metadata": {},
   "outputs": [
    {
     "name": "stdout",
     "output_type": "stream",
     "text": [
      "The number of records is 6234\n"
     ]
    }
   ],
   "source": [
    "#2.\n",
    "print('The number of records is', df.shape[0])"
   ]
  },
  {
   "cell_type": "code",
   "execution_count": 6,
   "id": "fe7e76bd",
   "metadata": {},
   "outputs": [
    {
     "name": "stdout",
     "output_type": "stream",
     "text": [
      "The number of movies is 4265 and the total number of those in United States is 1924\n"
     ]
    }
   ],
   "source": [
    "#3.\n",
    "df_mov=df.query(\"type == 'Movie'\")                                            #Extract only the movie records\n",
    " \n",
    "mov_us=df_mov[df_mov['country'].str.contains(\"United States\")==True].shape[0] #Extract only the movie records in US\n",
    "print('The number of movies is', df_mov.shape[0], \"and the total number of those in United States is\",mov_us)"
   ]
  },
  {
   "cell_type": "code",
   "execution_count": 7,
   "id": "3ee0395c",
   "metadata": {},
   "outputs": [
    {
     "data": {
      "text/html": [
       "<div>\n",
       "<style scoped>\n",
       "    .dataframe tbody tr th:only-of-type {\n",
       "        vertical-align: middle;\n",
       "    }\n",
       "\n",
       "    .dataframe tbody tr th {\n",
       "        vertical-align: top;\n",
       "    }\n",
       "\n",
       "    .dataframe thead th {\n",
       "        text-align: right;\n",
       "    }\n",
       "</style>\n",
       "<table border=\"1\" class=\"dataframe\">\n",
       "  <thead>\n",
       "    <tr style=\"text-align: right;\">\n",
       "      <th></th>\n",
       "      <th>Countries</th>\n",
       "      <th>Counts</th>\n",
       "    </tr>\n",
       "  </thead>\n",
       "  <tbody>\n",
       "    <tr>\n",
       "      <th>2</th>\n",
       "      <td>United States</td>\n",
       "      <td>2302</td>\n",
       "    </tr>\n",
       "    <tr>\n",
       "      <th>3</th>\n",
       "      <td>India</td>\n",
       "      <td>808</td>\n",
       "    </tr>\n",
       "    <tr>\n",
       "      <th>19</th>\n",
       "      <td>United Kingdom</td>\n",
       "      <td>483</td>\n",
       "    </tr>\n",
       "    <tr>\n",
       "      <th>10</th>\n",
       "      <td>United States</td>\n",
       "      <td>308</td>\n",
       "    </tr>\n",
       "    <tr>\n",
       "      <th>18</th>\n",
       "      <td>Canada</td>\n",
       "      <td>206</td>\n",
       "    </tr>\n",
       "    <tr>\n",
       "      <th>1</th>\n",
       "      <td>Japan</td>\n",
       "      <td>184</td>\n",
       "    </tr>\n",
       "    <tr>\n",
       "      <th>25</th>\n",
       "      <td>France</td>\n",
       "      <td>147</td>\n",
       "    </tr>\n",
       "    <tr>\n",
       "      <th>4</th>\n",
       "      <td>South Korea</td>\n",
       "      <td>146</td>\n",
       "    </tr>\n",
       "    <tr>\n",
       "      <th>22</th>\n",
       "      <td>Spain</td>\n",
       "      <td>139</td>\n",
       "    </tr>\n",
       "    <tr>\n",
       "      <th>14</th>\n",
       "      <td>France</td>\n",
       "      <td>124</td>\n",
       "    </tr>\n",
       "  </tbody>\n",
       "</table>\n",
       "</div>"
      ],
      "text/plain": [
       "         Countries  Counts\n",
       "2    United States    2302\n",
       "3            India     808\n",
       "19  United Kingdom     483\n",
       "10   United States     308\n",
       "18          Canada     206\n",
       "1            Japan     184\n",
       "25          France     147\n",
       "4      South Korea     146\n",
       "22           Spain     139\n",
       "14          France     124"
      ]
     },
     "execution_count": 7,
     "metadata": {},
     "output_type": "execute_result"
    }
   ],
   "source": [
    "#4.\n",
    "lst_coun=df['country'].tolist() \n",
    "\n",
    "coun = [item for item in lst_coun if not(pd.isnull(item)) == True] #Deleting NaN values\n",
    "coun = \",\".join(coun)                                              \n",
    "coun = coun.split(\",\")                                             #Create a list with all references of countries\n",
    "\n",
    "output = []\n",
    "for x in coun:\n",
    "    if x not in output:\n",
    "        output.append(x)\n",
    "list_countries=output                                              #Unique list of countries\n",
    "\n",
    "count_countries=[]\n",
    "for i in range(0,len(list_countries)):\n",
    "    elm_count= coun.count(list_countries[i])\n",
    "    count_countries.append(elm_count)                              #Count the countries\n",
    "\n",
    "    df_coun=pd.DataFrame(list(zip(list_countries,count_countries)),columns=['Countries','Counts'])#Create the DF with the Countries and their counts\n",
    "\n",
    "    tot_coun= df_coun.sort_values(by='Counts', ascending=False)    #Sort the DataFrame\n",
    "tot_coun.head(10)                                                  #Top 10 Countries "
   ]
  },
  {
   "cell_type": "code",
   "execution_count": 8,
   "id": "b92a15ba",
   "metadata": {},
   "outputs": [
    {
     "data": {
      "text/html": [
       "<div>\n",
       "<style scoped>\n",
       "    .dataframe tbody tr th:only-of-type {\n",
       "        vertical-align: middle;\n",
       "    }\n",
       "\n",
       "    .dataframe tbody tr th {\n",
       "        vertical-align: top;\n",
       "    }\n",
       "\n",
       "    .dataframe thead th {\n",
       "        text-align: right;\n",
       "    }\n",
       "</style>\n",
       "<table border=\"1\" class=\"dataframe\">\n",
       "  <thead>\n",
       "    <tr style=\"text-align: right;\">\n",
       "      <th></th>\n",
       "      <th>show_id</th>\n",
       "      <th>type</th>\n",
       "      <th>title</th>\n",
       "      <th>duration</th>\n",
       "      <th>country</th>\n",
       "      <th>director</th>\n",
       "      <th>cast</th>\n",
       "      <th>Nominations</th>\n",
       "      <th>Wins</th>\n",
       "    </tr>\n",
       "  </thead>\n",
       "  <tbody>\n",
       "    <tr>\n",
       "      <th>0</th>\n",
       "      <td>80224924</td>\n",
       "      <td>Movie</td>\n",
       "      <td>Expedition China</td>\n",
       "      <td>78 min</td>\n",
       "      <td>NaN</td>\n",
       "      <td>Ben Wallis</td>\n",
       "      <td>Maggie Q</td>\n",
       "      <td>8</td>\n",
       "      <td>7</td>\n",
       "    </tr>\n",
       "    <tr>\n",
       "      <th>1</th>\n",
       "      <td>80149575</td>\n",
       "      <td>Movie</td>\n",
       "      <td>Caida del Cielo</td>\n",
       "      <td>78 min</td>\n",
       "      <td>Argentina</td>\n",
       "      <td>Néstor Sánchez Sotelo</td>\n",
       "      <td>Muriel Santa Ana, Peto Menahem, Héctor Díaz, S...</td>\n",
       "      <td>2</td>\n",
       "      <td>0</td>\n",
       "    </tr>\n",
       "    <tr>\n",
       "      <th>2</th>\n",
       "      <td>80175822</td>\n",
       "      <td>TV Show</td>\n",
       "      <td>Blazing Transfer Students</td>\n",
       "      <td>1 Season</td>\n",
       "      <td>Japan</td>\n",
       "      <td>NaN</td>\n",
       "      <td>Daiki Shigeoka, Akito Kiriyama, Junta Nakama, ...</td>\n",
       "      <td>6</td>\n",
       "      <td>0</td>\n",
       "    </tr>\n",
       "    <tr>\n",
       "      <th>3</th>\n",
       "      <td>80166467</td>\n",
       "      <td>TV Show</td>\n",
       "      <td>Ellen DeGeneres: Relatable</td>\n",
       "      <td>1 Season</td>\n",
       "      <td>United States</td>\n",
       "      <td>Joel Gallen, Tig Notaro</td>\n",
       "      <td>Ellen DeGeneres</td>\n",
       "      <td>4</td>\n",
       "      <td>1</td>\n",
       "    </tr>\n",
       "    <tr>\n",
       "      <th>4</th>\n",
       "      <td>70123116</td>\n",
       "      <td>Movie</td>\n",
       "      <td>Agyaat</td>\n",
       "      <td>97 min</td>\n",
       "      <td>India</td>\n",
       "      <td>Ram Gopal Varma</td>\n",
       "      <td>Adesh Bhardwaj, Rasika Dugal, Joy Fernandes, R...</td>\n",
       "      <td>3</td>\n",
       "      <td>2</td>\n",
       "    </tr>\n",
       "  </tbody>\n",
       "</table>\n",
       "</div>"
      ],
      "text/plain": [
       "    show_id     type                       title  duration        country  \\\n",
       "0  80224924    Movie            Expedition China    78 min            NaN   \n",
       "1  80149575    Movie             Caida del Cielo    78 min      Argentina   \n",
       "2  80175822  TV Show   Blazing Transfer Students  1 Season          Japan   \n",
       "3  80166467  TV Show  Ellen DeGeneres: Relatable  1 Season  United States   \n",
       "4  70123116    Movie                      Agyaat    97 min          India   \n",
       "\n",
       "                  director                                               cast  \\\n",
       "0               Ben Wallis                                           Maggie Q   \n",
       "1    Néstor Sánchez Sotelo  Muriel Santa Ana, Peto Menahem, Héctor Díaz, S...   \n",
       "2                      NaN  Daiki Shigeoka, Akito Kiriyama, Junta Nakama, ...   \n",
       "3  Joel Gallen, Tig Notaro                                    Ellen DeGeneres   \n",
       "4          Ram Gopal Varma  Adesh Bhardwaj, Rasika Dugal, Joy Fernandes, R...   \n",
       "\n",
       "   Nominations  Wins  \n",
       "0            8     7  \n",
       "1            2     0  \n",
       "2            6     0  \n",
       "3            4     1  \n",
       "4            3     2  "
      ]
     },
     "execution_count": 8,
     "metadata": {},
     "output_type": "execute_result"
    }
   ],
   "source": [
    "#5.\n",
    "\n",
    "nom = np.random.randint(0, 11, df.shape[0])\n",
    "wins = []\n",
    "for i in range(0,len(nom)):\n",
    "    w=random.randint(0,nom[i])\n",
    "    wins.append(w)\n",
    "\n",
    "df['Nominations'] = pd.DataFrame({'Nominations': nom})\n",
    "df['Wins'] = pd.DataFrame({'Wins': wins})\n",
    "\n",
    "df.head()"
   ]
  },
  {
   "cell_type": "code",
   "execution_count": 9,
   "id": "3e0f385c",
   "metadata": {},
   "outputs": [
    {
     "data": {
      "image/png": "[encoded data removed]",
      "text/plain": [
       "<Figure size 432x288 with 1 Axes>"
      ]
     },
     "metadata": {
      "needs_background": "light"
     },
     "output_type": "display_data"
    },
    {
     "data": {
      "image/png": "[encoded data removed]",
      "text/plain": [
       "<Figure size 432x288 with 1 Axes>"
      ]
     },
     "metadata": {
      "needs_background": "light"
     },
     "output_type": "display_data"
    }
   ],
   "source": [
    "#6.\n",
    "import matplotlib.pyplot as plt\n",
    "\n",
    "plt.hist([nom, wins], 10, label=['Nominations', 'Wins']) #Histogram\n",
    "plt.legend(loc='upper right')\n",
    "plt.xlabel('Nominations and Wins') \n",
    "plt.ylabel('Number of Movies and Series')\n",
    "#plt.title(\"Nominations and Wins\")\n",
    "plt.show()\n",
    "\n",
    "plt.scatter(nom, wins, c =\"red\")                         #Scatter Plot\n",
    "plt.xlabel('Nominations') \n",
    "plt.ylabel('Wins')\n",
    "plt.title(\"Wins - Nominations\")\n",
    "plt.show()"
   ]
  },
  {
   "cell_type": "code",
   "execution_count": 10,
   "id": "efa0d394",
   "metadata": {},
   "outputs": [
    {
     "data": {
      "image/png": "[encoded data removed]",
      "text/plain": [
       "<Figure size 432x288 with 1 Axes>"
      ]
     },
     "metadata": {
      "needs_background": "light"
     },
     "output_type": "display_data"
    }
   ],
   "source": [
    "#7.\n",
    "            \n",
    "mov=df_mov['duration'].tolist()                 #Convert Dataframe column to list\n",
    "mov_min = [x.replace('min','') for x in mov]    #Extract the term \"min\" from the list\n",
    "for i in range(0, len(mov_min)): \n",
    "    mov_min[i] = int(mov_min[i])                #Turning Strings into Integers\n",
    "    \n",
    "plt.hist([mov_min], 100)                        #Histogram\n",
    "plt.ylabel('Number of Movies') \n",
    "plt.xlabel('Duration (min)')\n",
    "plt.title(\"Duration of Movies\")\n",
    "plt.show()"
   ]
  },
  {
   "cell_type": "code",
   "execution_count": 11,
   "id": "4436edd2",
   "metadata": {},
   "outputs": [
    {
     "name": "stdout",
     "output_type": "stream",
     "text": [
      "The number of movies with duration larger than 120 minutes is 827\n"
     ]
    }
   ],
   "source": [
    "#8.\n",
    "count = 0\n",
    "for i in mov_min:\n",
    "    if i>120:\n",
    "        count += 1\n",
    "print('The number of movies with duration larger than 120 minutes is', count)"
   ]
  },
  {
   "cell_type": "code",
   "execution_count": 15,
   "id": "382733aa",
   "metadata": {},
   "outputs": [
    {
     "data": {
      "text/plain": [
       "0.11770222743259086"
      ]
     },
     "execution_count": 15,
     "metadata": {},
     "output_type": "execute_result"
    }
   ],
   "source": [
    "#9.\n",
    "count = len([movie for movie in mov_min if movie > 130])\n",
    "prob=count/len(mov_min)\n",
    "prob"
   ]
  },
  {
   "cell_type": "code",
   "execution_count": null,
   "id": "f7d7ce6b",
   "metadata": {},
   "outputs": [],
   "source": []
  }
 ],
 "metadata": {
  "kernelspec": {
   "display_name": "Python 3",
   "language": "python",
   "name": "python3"
  },
  "language_info": {
   "codemirror_mode": {
    "name": "ipython",
    "version": 3
   },
   "file_extension": ".py",
   "mimetype": "text/x-python",
   "name": "python",
   "nbconvert_exporter": "python",
   "pygments_lexer": "ipython3",
   "version": "3.8.8"
  }
 },
 "nbformat": 4,
 "nbformat_minor": 5
}
